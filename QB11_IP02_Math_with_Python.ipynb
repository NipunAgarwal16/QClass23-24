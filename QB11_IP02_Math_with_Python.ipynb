{
  "cells": [
    {
      "cell_type": "markdown",
      "metadata": {
        "id": "view-in-github",
        "colab_type": "text"
      },
      "source": [
        "<a href=\"https://colab.research.google.com/github/NipunAgarwal16/QClass23-24/blob/main/QB11_IP02_Math_with_Python.ipynb\" target=\"_parent\"><img src=\"https://colab.research.google.com/assets/colab-badge.svg\" alt=\"Open In Colab\"/></a>"
      ]
    },
    {
      "cell_type": "markdown",
      "metadata": {
        "id": "b3yYuF6K7EuF"
      },
      "source": [
        "<a href=\"https://qworld.net\" target=\"_blank\" align=\"left\"><img src=\"https://gitlab.com/qworld/qeducation/qbook101/raw/main/qworld/images/header.jpg\" align=\"left\"></a>\n",
        "$ \\newcommand{\\bra}[1]{\\langle #1|} $\n",
        "$ \\newcommand{\\ket}[1]{|#1\\rangle} $\n",
        "$ \\newcommand{\\braket}[2]{\\langle #1|#2\\rangle} $\n",
        "$ \\newcommand{\\dot}[2]{ #1 \\cdot #2} $\n",
        "$ \\newcommand{\\biginner}[2]{\\left\\langle #1,#2\\right\\rangle} $\n",
        "$ \\newcommand{\\mymatrix}[2]{\\left( \\begin{array}{#1} #2\\end{array} \\right)} $\n",
        "$ \\newcommand{\\myvector}[1]{\\mymatrix{c}{#1}} $\n",
        "$ \\newcommand{\\myrvector}[1]{\\mymatrix{r}{#1}} $\n",
        "$ \\newcommand{\\mypar}[1]{\\left( #1 \\right)} $\n",
        "$ \\newcommand{\\mybigpar}[1]{ \\Big( #1 \\Big)} $\n",
        "$ \\newcommand{\\sqrttwo}{\\frac{1}{\\sqrt{2}}} $\n",
        "$ \\newcommand{\\dsqrttwo}{\\dfrac{1}{\\sqrt{2}}} $\n",
        "$ \\newcommand{\\onehalf}{\\frac{1}{2}} $\n",
        "$ \\newcommand{\\donehalf}{\\dfrac{1}{2}} $\n",
        "$ \\newcommand{\\hadamard}{ \\mymatrix{rr}{ \\sqrttwo & \\sqrttwo \\\\ \\sqrttwo & -\\sqrttwo }} $\n",
        "$ \\newcommand{\\vzero}{\\myvector{1\\\\0}} $\n",
        "$ \\newcommand{\\vone}{\\myvector{0\\\\1}} $\n",
        "$ \\newcommand{\\stateplus}{\\myvector{ \\sqrttwo \\\\  \\sqrttwo } } $\n",
        "$ \\newcommand{\\stateminus}{ \\myrvector{ \\sqrttwo \\\\ -\\sqrttwo } } $\n",
        "$ \\newcommand{\\myarray}[2]{ \\begin{array}{#1}#2\\end{array}} $\n",
        "$ \\newcommand{\\X}{ \\mymatrix{cc}{0 & 1 \\\\ 1 & 0}  } $\n",
        "$ \\newcommand{\\Z}{ \\mymatrix{rr}{1 & 0 \\\\ 0 & -1}  } $\n",
        "$ \\newcommand{\\Htwo}{ \\mymatrix{rrrr}{ \\frac{1}{2} & \\frac{1}{2} & \\frac{1}{2} & \\frac{1}{2} \\\\ \\frac{1}{2} & -\\frac{1}{2} & \\frac{1}{2} & -\\frac{1}{2} \\\\ \\frac{1}{2} & \\frac{1}{2} & -\\frac{1}{2} & -\\frac{1}{2} \\\\ \\frac{1}{2} & -\\frac{1}{2} & -\\frac{1}{2} & \\frac{1}{2} } } $\n",
        "$ \\newcommand{\\CNOT}{ \\mymatrix{cccc}{1 & 0 & 0 & 0 \\\\ 0 & 1 & 0 & 0 \\\\ 0 & 0 & 0 & 1 \\\\ 0 & 0 & 1 & 0} } $\n",
        "$ \\newcommand{\\norm}[1]{ \\left\\lVert #1 \\right\\rVert } $\n",
        "$ \\newcommand{\\pstate}[1]{ \\lceil \\mspace{-1mu} #1 \\mspace{-1.5mu} \\rfloor } $"
      ]
    },
    {
      "cell_type": "markdown",
      "metadata": {
        "id": "3Af3YdCn7EuH"
      },
      "source": [
        "_prepared by Claudia Zendejas-Morales_"
      ]
    },
    {
      "cell_type": "markdown",
      "metadata": {
        "id": "6KzFyaWj7EuH"
      },
      "source": [
        "<font size=\"28px\" style=\"font-size:28px;\" align=\"left\"><b> Math with Python </b></font>\n",
        "<br>\n",
        "<br><br>"
      ]
    },
    {
      "cell_type": "markdown",
      "metadata": {
        "jp-MarkdownHeadingCollapsed": true,
        "id": "WpCnLmBK7EuH"
      },
      "source": [
        "##### <font color=\"#08b806\">Please execute the following cell, it is necessary to distinguish between your local environment and Google Colab's"
      ]
    },
    {
      "cell_type": "code",
      "execution_count": 1,
      "metadata": {
        "id": "LZmrr8zl7EuH"
      },
      "outputs": [],
      "source": [
        "import IPython\n",
        "\n",
        "def in_colab():\n",
        "    try:\n",
        "        import google.colab\n",
        "        return True\n",
        "    except:\n",
        "        return False\n",
        "\n",
        "SolutionToTask1 = lambda: IPython.display.display(IPython.display.Javascript('window.open(\"{url}\");'.format(url='https://colab.research.google.com/drive/1arpai4KkBE7FvHIu3YMu8Tfs2vYVVuSY?usp=sharing#scrollTo=67EZHJs06l70' if in_colab() else 'QB11_IP02_Math_with_Python_Solutions.ipynb#task1')))\n",
        "SolutionToTask2 = lambda: IPython.display.display(IPython.display.Javascript('window.open(\"{url}\");'.format(url='https://colab.research.google.com/drive/1arpai4KkBE7FvHIu3YMu8Tfs2vYVVuSY?usp=sharing#scrollTo=Z6w6pyYw6l71' if in_colab() else 'QB11_IP02_Math_with_Python_Solutions.ipynb#task2')))\n",
        "SolutionToTask3 = lambda: IPython.display.display(IPython.display.Javascript('window.open(\"{url}\");'.format(url='https://colab.research.google.com/drive/1arpai4KkBE7FvHIu3YMu8Tfs2vYVVuSY?usp=sharing#scrollTo=kymYuLB66l71' if in_colab() else 'QB11_IP02_Math_with_Python_Solutions.ipynb#task3')))\n",
        "SolutionToTask4 = lambda: IPython.display.display(IPython.display.Javascript('window.open(\"{url}\");'.format(url='https://colab.research.google.com/drive/1arpai4KkBE7FvHIu3YMu8Tfs2vYVVuSY?usp=sharing#scrollTo=GPOF3B6l6l72' if in_colab() else 'QB11_IP02_Math_with_Python_Solutions.ipynb#task4')))\n",
        "SolutionToTask5 = lambda: IPython.display.display(IPython.display.Javascript('window.open(\"{url}\");'.format(url='https://colab.research.google.com/drive/1arpai4KkBE7FvHIu3YMu8Tfs2vYVVuSY?usp=sharing#scrollTo=7BkqghRC6l73' if in_colab() else 'QB11_IP02_Math_with_Python_Solutions.ipynb#task5')))"
      ]
    },
    {
      "cell_type": "markdown",
      "metadata": {
        "id": "D2zODAEI7EuH"
      },
      "source": [
        "# Trigonometry review"
      ]
    },
    {
      "cell_type": "markdown",
      "metadata": {
        "id": "LHC93scU7EuH"
      },
      "source": [
        "The **trigonometric ratios** are the ratios between the edges of a right triangle:\n",
        "\n",
        "<img src=\"https://gitlab.com/qworld/qeducation/qbook101/raw/main/qbook101/images/ch1/Trigonometry_triangle.svg\" width=\"250\" align=\"center\">\n",
        "<p style=\"font-size:10px;font-style:italic;text-align:right\">\n",
        "<a href=\"https://en.wikipedia.org/wiki/Trigonometry#/media/File:Trigonometry_triangle.svg\" target=\"_blank\">source of image</a> (license CC BY-SA 3.0)</p>"
      ]
    },
    {
      "cell_type": "markdown",
      "metadata": {
        "id": "eavlyK217EuI"
      },
      "source": [
        "Where:\n",
        "$$\\sin \\; A = \\frac{a}{h} ~~~~;~~~~ \\cos \\; A = \\frac{b}{h} ~~~~;~~~~ \\tan \\; A = \\frac{a}{b}$$"
      ]
    },
    {
      "cell_type": "markdown",
      "metadata": {
        "id": "UeHV8k4y7EuI"
      },
      "source": [
        "Example: if the _hypotenuse_ is equal to $12$ and the angle $A$ is equal to $70^\\circ$, then we can find the _opposite_ side using Python as follows:"
      ]
    },
    {
      "cell_type": "code",
      "execution_count": 2,
      "metadata": {
        "id": "r8n9OK2d7EuI"
      },
      "outputs": [],
      "source": [
        "# Python code     <- this a comment, therefore is ignored by Python\n",
        "\n",
        "# first we define two variables\n",
        "hypotenuse = 12\n",
        "A = 70"
      ]
    },
    {
      "cell_type": "markdown",
      "metadata": {
        "id": "2pFAlDpT7EuI"
      },
      "source": [
        "We know that the ratio $\\sin \\; A = a/h$, therefore $a = h \\; \\sin \\; A$.\n",
        "\n",
        "In Python, we can use code written by others through the import of packages; for example, the `math` package includes lots of predefine functions that we can use, for instance, de `sin()` function and the variable `pi`:"
      ]
    },
    {
      "cell_type": "code",
      "execution_count": 3,
      "metadata": {
        "id": "fHjFYilU7EuI",
        "colab": {
          "base_uri": "https://localhost:8080/"
        },
        "outputId": "86470628-7fad-4133-a454-dd509e4483a1"
      },
      "outputs": [
        {
          "output_type": "stream",
          "name": "stdout",
          "text": [
            "11.2763114494309\n"
          ]
        }
      ],
      "source": [
        "# import the 'sin' function and the 'pi' variable contained in the 'math' package\n",
        "from math import sin, pi\n",
        "\n",
        "\n",
        "# convert the angle A to radians because the sin() function expects radians\n",
        "A_radians = A * pi / 180\n",
        "\n",
        "# calculate the opposite side\n",
        "opposite = hypotenuse * sin(A_radians)\n",
        "\n",
        "# use the 'print()' function to show values in variables\n",
        "print(opposite)"
      ]
    },
    {
      "cell_type": "markdown",
      "metadata": {
        "id": "uWgV2cr67EuI"
      },
      "source": [
        "An overview of variables in Python can be found in _'Appendix A - Variables'_."
      ]
    },
    {
      "cell_type": "markdown",
      "metadata": {
        "id": "jfBzYTm47EuI"
      },
      "source": [
        "<h3> Task 1</h3>\n",
        "\n",
        "Define the variables `opposite=8` and `A=25` (degrees) and find:\n",
        "\n",
        "- the `hypotenuse` side\n",
        "- the `adjacent`side\n",
        "- the angle `B`"
      ]
    },
    {
      "cell_type": "code",
      "execution_count": 9,
      "metadata": {
        "id": "IwY1zMxj7EuI",
        "colab": {
          "base_uri": "https://localhost:8080/"
        },
        "outputId": "80c17cfe-592d-4fc1-ffcd-a4d63b4b8796"
      },
      "outputs": [
        {
          "output_type": "stream",
          "name": "stdout",
          "text": [
            "17.15605536407647\n",
            "18.929612665219988\n",
            "1.1344640137963142\n"
          ]
        }
      ],
      "source": [
        "from math import sin, cos, pi\n",
        "\n",
        "#\n",
        "# your code goes here\n",
        "#\n",
        "opposite = 8\n",
        "A = 25\n",
        "\n",
        "############################\n",
        "A_radians = A * pi / 180\n",
        "tangent_A = sin(A_radians)/cos(A_radians)\n",
        "adjacent = opposite/ tangent_A\n",
        "print(adjacent)\n",
        "############################\n",
        "\n",
        "########################\n",
        "hypotenuse = opposite/sin(A_radians)\n",
        "print(hypotenuse)\n",
        "########################\n",
        "\n",
        "################\n",
        "B = 90 - A\n",
        "B_radians = B *pi /180\n",
        "print(B_radians)\n",
        "####################\n",
        "\n"
      ]
    },
    {
      "cell_type": "markdown",
      "metadata": {
        "id": "oltfCghS7EuI"
      },
      "source": [
        "To check out our solution, run the next cell:"
      ]
    },
    {
      "cell_type": "code",
      "execution_count": 10,
      "metadata": {
        "id": "RhixRxMw7EuI",
        "colab": {
          "base_uri": "https://localhost:8080/",
          "height": 17
        },
        "outputId": "911d6ca3-8aa0-45c2-b621-52e052cd951f"
      },
      "outputs": [
        {
          "output_type": "display_data",
          "data": {
            "text/plain": [
              "<IPython.core.display.Javascript object>"
            ],
            "application/javascript": [
              "window.open(\"https://colab.research.google.com/drive/1arpai4KkBE7FvHIu3YMu8Tfs2vYVVuSY?usp=sharing#scrollTo=67EZHJs06l70\");"
            ]
          },
          "metadata": {}
        }
      ],
      "source": [
        "SolutionToTask1()  # show solution for task 1"
      ]
    },
    {
      "cell_type": "markdown",
      "metadata": {
        "id": "LeIX1OyV7EuI"
      },
      "source": [
        "# Complex Numbers"
      ]
    },
    {
      "cell_type": "markdown",
      "metadata": {
        "id": "uqHsK6f17EuI"
      },
      "source": [
        "A **complex number** $z\\in\\mathbb{C}$ is composed by two real numbers $x,y\\in\\mathbb{R}$:\n",
        "$$z=x+yi$$\n",
        "where the element $i$ is called the imaginary unit and satifies the equation $i^2=-1$; $x$ is known as the real part, and $y$ is known as the imaginary part, which may be interpreted as coordinaes of a point in a two-dimensional space:\n",
        "\n",
        "<img src=\"https://gitlab.com/qworld/qeducation/qbook101/raw/main/qbook101/images/ch1/Complex_number.svg\" width=\"250\" align=\"center\">\n",
        "<p style=\"font-size:10px;font-style:italic;text-align:right\">\n",
        "<a href=\"https://en.wikipedia.org/wiki/Complex_number#/media/File:Complex_number_illustration_modarg.svg\" target=\"_blank\">source of image</a> (license CC BY-SA 3.0)</p>\n",
        "\n",
        "If we want to refer to the real part, we can write: $Re(z)$, and for the imaginary part: $Im(z)$. For example, let's take the complex number $z_1=2+3i$, therefore $Re(z_1)=2$ and $Im(z_1)=3$.\n",
        "\n",
        "\n",
        "In python, we can write complex numbers with the `complex()` function as follows:"
      ]
    },
    {
      "cell_type": "code",
      "execution_count": 11,
      "metadata": {
        "id": "FMnxy87e7EuI",
        "colab": {
          "base_uri": "https://localhost:8080/"
        },
        "outputId": "28df159b-f7a7-4558-bc13-cfabd7f60c86"
      },
      "outputs": [
        {
          "output_type": "stream",
          "name": "stdout",
          "text": [
            "(2+3j)\n",
            "2.0\n",
            "3.0\n"
          ]
        }
      ],
      "source": [
        "z1 = complex(2, 3)\n",
        "\n",
        "print(z1)         # print the complex number 'z1'\n",
        "\n",
        "print(z1.real)    # get the real part\n",
        "\n",
        "print(z1.imag)    # get the imaginary part"
      ]
    },
    {
      "cell_type": "markdown",
      "metadata": {
        "id": "c7seShKV7EuI"
      },
      "source": [
        "In the previous example we write the complex number $z_1=2+3i$ in Python, and we can see that the first argument specifies the real part, and the second the imaginary part. Note that when printing the variable `z1` the imaginary part uses a `j`, this is how Python refers to the complex element $i$."
      ]
    },
    {
      "cell_type": "markdown",
      "metadata": {
        "id": "68b7T4Gc7EuI"
      },
      "source": [
        "An overview of loops in Python can be found in _'Appendix A - Loops'_."
      ]
    },
    {
      "cell_type": "markdown",
      "metadata": {
        "id": "uegF4W-Z7EuI"
      },
      "source": [
        "<h3> Task 2</h3>\n",
        "\n",
        "Using a loop, find the result of $i^2,i^3,\\cdot,i^{10}$, what can you say about the observed behaviour?"
      ]
    },
    {
      "cell_type": "code",
      "execution_count": 16,
      "metadata": {
        "id": "cWsd6nFV7EuI",
        "colab": {
          "base_uri": "https://localhost:8080/"
        },
        "outputId": "e63078d5-0029-4852-a517-03628c64439d"
      },
      "outputs": [
        {
          "output_type": "stream",
          "name": "stdout",
          "text": [
            "(1+0j)\n",
            "1j\n",
            "(-1+0j)\n",
            "(-0-1j)\n",
            "(1+0j)\n",
            "1j\n",
            "(-1+0j)\n",
            "(-0-1j)\n",
            "(1+0j)\n",
            "1j\n"
          ]
        }
      ],
      "source": [
        "#\n",
        "# your code goes here\n",
        "#\n",
        "for a in range(10):\n",
        "  result = complex(0,1)**a\n",
        "  print(result)"
      ]
    },
    {
      "cell_type": "markdown",
      "metadata": {
        "id": "4IU35SP97EuI"
      },
      "source": [
        "To check out our solution, run the next cell:"
      ]
    },
    {
      "cell_type": "code",
      "execution_count": 17,
      "metadata": {
        "id": "ykKn-HhA7EuI",
        "colab": {
          "base_uri": "https://localhost:8080/",
          "height": 17
        },
        "outputId": "fb4ff80c-4e04-48c9-bdc1-c65bef45315b"
      },
      "outputs": [
        {
          "output_type": "display_data",
          "data": {
            "text/plain": [
              "<IPython.core.display.Javascript object>"
            ],
            "application/javascript": [
              "window.open(\"https://colab.research.google.com/drive/1arpai4KkBE7FvHIu3YMu8Tfs2vYVVuSY?usp=sharing#scrollTo=Z6w6pyYw6l71\");"
            ]
          },
          "metadata": {}
        }
      ],
      "source": [
        "SolutionToTask2()  # show solution for task 2"
      ]
    },
    {
      "cell_type": "markdown",
      "metadata": {
        "id": "IYfMSuIj7EuI"
      },
      "source": [
        "The usual operations with complex numbers can be performed:"
      ]
    },
    {
      "cell_type": "code",
      "execution_count": 18,
      "metadata": {
        "id": "EJ2Vh6lw7EuI",
        "colab": {
          "base_uri": "https://localhost:8080/"
        },
        "outputId": "cf9ee955-71e0-446e-e980-e1caf68883b5"
      },
      "outputs": [
        {
          "output_type": "stream",
          "name": "stdout",
          "text": [
            "(24+27j)\n",
            "(11+5j)\n",
            "(60-5j)\n",
            "(-0.08275862068965519-0.4068965517241379j)\n"
          ]
        }
      ],
      "source": [
        "z2 = complex(8, 9)\n",
        "z3 = complex(3, -4)\n",
        "\n",
        "print(3 * z2)\n",
        "print(z2 + z3)\n",
        "print(z2 * z3)\n",
        "print(z3 / z2)"
      ]
    },
    {
      "cell_type": "markdown",
      "source": [
        "The **conjugate of a complex number** ($z$) is another complex number that inverts the sign of the imaginary part of the first, usually denoted with $z^*$ or with $\\bar{z}$.\n",
        "\n",
        "$$z=x+iy~~~~~\\Rightarrow~~~~~z^*=x-iy$$\n",
        "\n",
        "In Python we can obtain the conjugate of a complex number with the `conjugate()` method:"
      ],
      "metadata": {
        "id": "T_JquPAVzssg"
      }
    },
    {
      "cell_type": "code",
      "source": [
        "z4 = complex(2, -5)\n",
        "\n",
        "z5 = z4.conjugate()\n",
        "\n",
        "print(z4)\n",
        "print(z5)"
      ],
      "metadata": {
        "id": "5PngcdRXzumm",
        "colab": {
          "base_uri": "https://localhost:8080/"
        },
        "outputId": "32dda000-2b7b-43b7-fc6b-0d2c5b2c7b93"
      },
      "execution_count": 19,
      "outputs": [
        {
          "output_type": "stream",
          "name": "stdout",
          "text": [
            "(2-5j)\n",
            "(2+5j)\n"
          ]
        }
      ]
    },
    {
      "cell_type": "markdown",
      "metadata": {
        "id": "UTbnMuul7EuI"
      },
      "source": [
        "# Vectors and Matrices"
      ]
    },
    {
      "cell_type": "markdown",
      "metadata": {
        "id": "vzybI5na7EuI"
      },
      "source": [
        "A **vector** is a geometric entity characterized by its magnitude and direction, that is, it is a directed line segment, or arrow, in a [Euclidean space](https://en.wikipedia.org/wiki/Euclidean_space) of $n$ dimensions; Thus, if the vector belongs to a 2-dimensional space, then it can be expressed as a list of 2 numbers, but if the vector belongs to an 8-dimensional space, then the 8 numbers that define it in that space must be specified. We say that a vector over a field $F$ is a list of elements of $F$. The field $F$ can be, for example, the real numbers ($\\mathbb{R}$) or the complex numbers ($\\mathbb{C}$).\n",
        "\n",
        "Throughout QBook101 we will be using column vectors, which are those that are written vertically, for example the 4-dimensional vector $\\vec{a}$:\n",
        "\n",
        "$$\\vec{a}=\\mymatrix{r}{3 \\\\ -1 \\\\ 5 \\\\ -8}$$\n",
        "\n",
        "Which in Python we can write with a list, as follows:"
      ]
    },
    {
      "cell_type": "code",
      "execution_count": 20,
      "metadata": {
        "id": "_est_rym7EuJ",
        "colab": {
          "base_uri": "https://localhost:8080/"
        },
        "outputId": "9783b401-cea7-465f-cbcb-6b7eebb737f5"
      },
      "outputs": [
        {
          "output_type": "stream",
          "name": "stdout",
          "text": [
            "a is [3, -1, 5, -8]\n"
          ]
        }
      ],
      "source": [
        "a = [3, -1, 5, -8]\n",
        "print(\"a is\", a)"
      ]
    },
    {
      "cell_type": "markdown",
      "metadata": {
        "id": "6b8ydNgj7EuJ"
      },
      "source": [
        "Note that when printing the list, the vector appears as a row vector, but it is important to remember that for us, the code that defines the variable `a` represents a column vector."
      ]
    },
    {
      "cell_type": "markdown",
      "metadata": {
        "id": "httav6QD7EuJ"
      },
      "source": [
        "An overview of vectors with Python can be found in 'Appendix B - Vectors'.\n",
        "<br><br><br>"
      ]
    },
    {
      "cell_type": "markdown",
      "metadata": {
        "id": "_Zmcb_zh7EuJ"
      },
      "source": [
        "A **matrix** is a rectangular array of numbers, called *entries*. We say that a matrix over a field $F$ is a rectangular array of elements of $F$. The field $F$ can be, for example, the real numbers ($\\mathbb{R}$) or the complex numbers ($\\mathbb{C}$). For example, the matrix $\\mathbf{A}$:\n",
        "\n",
        "$$\\mathbf{A} = \\mymatrix{rrr}{-2 & 3 & 5 \\\\ -3 & -3 & 4 \\\\ 1 & 5 & 6}$$\n",
        "\n",
        "Keep in mind that the matrices are not necessarily square, that is, have the same number of rows and columns; however, in the QBook101 we will use the matrices that are square.\n",
        "\n",
        "A matrix is said to be ($n \\times m$)-dimensional, where $n$ is the number of rows and $m$ is the number of columns that make up the matrix.\n",
        "\n",
        "In Python we can define an matrix as a list of lists, as follows:"
      ]
    },
    {
      "cell_type": "code",
      "execution_count": 21,
      "metadata": {
        "id": "IgH5tmmB7EuJ",
        "colab": {
          "base_uri": "https://localhost:8080/"
        },
        "outputId": "afd9345c-ec37-4e26-c777-fc7fc5428d21"
      },
      "outputs": [
        {
          "output_type": "stream",
          "name": "stdout",
          "text": [
            "[[-2, 3, 5], [-3, -3, 4], [1, 5, 6]]\n"
          ]
        }
      ],
      "source": [
        "# we may break lines when defining our list\n",
        "A = [\n",
        "     [-2 ,  3 , 5],\n",
        "     [-3 , -3 , 4],\n",
        "     [ 1 ,  5 , 6],\n",
        "    ]\n",
        "\n",
        "# let's print matrix A\n",
        "print(A)"
      ]
    },
    {
      "cell_type": "markdown",
      "metadata": {
        "id": "kQxb6HT37EuJ"
      },
      "source": [
        "which when printing, visually makes it difficult to interpret the set of numbers as a matrix, so we can print the matrix using a loop:"
      ]
    },
    {
      "cell_type": "code",
      "execution_count": 22,
      "metadata": {
        "id": "Y4REYTgr7EuJ",
        "colab": {
          "base_uri": "https://localhost:8080/"
        },
        "outputId": "2ee76916-c941-44ca-9d72-af4e6d8b89ce"
      },
      "outputs": [
        {
          "output_type": "stream",
          "name": "stdout",
          "text": [
            "[-2, 3, 5]\n",
            "[-3, -3, 4]\n",
            "[1, 5, 6]\n"
          ]
        }
      ],
      "source": [
        "for i in range(3): # there are 3 rows\n",
        "    print(A[i])"
      ]
    },
    {
      "cell_type": "markdown",
      "metadata": {
        "id": "Tv8AeStl7EuJ"
      },
      "source": [
        "An overview of matrices with Python can be found in _'Appendix B - Matrices'_."
      ]
    },
    {
      "cell_type": "markdown",
      "metadata": {
        "id": "-1C0V20Y7EuJ"
      },
      "source": [
        "# Vector and Matrix Operations"
      ]
    },
    {
      "cell_type": "markdown",
      "metadata": {
        "id": "Q0gosvdq7EuJ"
      },
      "source": [
        "We can perform different operations between the mathematical entities: vectors and matrices. For more details, visit _Appendix B_."
      ]
    },
    {
      "cell_type": "markdown",
      "metadata": {
        "id": "q_9EsdL97EuJ"
      },
      "source": [
        "An overview of loops in Python can be found in _'Appendix A - Loops'_."
      ]
    },
    {
      "cell_type": "markdown",
      "metadata": {
        "id": "XSj_crKc7EuJ"
      },
      "source": [
        "<h3> Task 3</h3>\n",
        "\n",
        "Consider the vector $b$ and the matrices $B$ and $C$ defined as follows:\n",
        "\n",
        "$$\\vec{b}=\\mymatrix{r}{-3i \\\\ 4+i \\\\ -3-5i \\\\ 8-7i} ~~~~~,~~~~~ \\mathbf{B} = \\mymatrix{rrr}{1 & 2 & -3 \\\\ -6 & 5 & 4 \\\\ 9 & 10 & 11 \\\\ 7 & -8 & 3} ~~~~~,~~~~~ \\mathbf{C} = \\mymatrix{rrrr}{3.3 & 2.5 & 8.1 & -1.3 \\\\ 9.2 & -7.5 & 10.6 & 2.8 \\\\ 4.9 & 6.7 & -12.1 & 0.3} $$\n",
        "\n",
        "Find:\n",
        "- $\\mathbf{C}\\cdot \\vec{b}$\n",
        "- $\\mathbf{B}\\cdot \\mathbf{C}$\n",
        "- $\\mathbf{B}\\cdot \\vec{b}$\n",
        "\n",
        "What happens to the dimensions of the result for each case?\n",
        "\n",
        "What happens with the last case?"
      ]
    },
    {
      "cell_type": "code",
      "execution_count": 36,
      "metadata": {
        "id": "7E-QqP1-7EuJ",
        "colab": {
          "base_uri": "https://localhost:8080/",
          "height": 349
        },
        "outputId": "e9e7b0c6-6f23-4350-a8e5-9a8e9465486a"
      },
      "outputs": [
        {
          "output_type": "stream",
          "name": "stdout",
          "text": [
            "[ 0.-3.j  4.+1.j -3.-5.j  8.-7.j]\n",
            "Result 1: [-24.7 -38.8j -39.4-107.7j  65.5 +50.4j]\n",
            "Result 2: [[  7.  -32.6  65.6   3.4]\n",
            " [ 45.8 -25.7 -44.   23. ]\n",
            " [175.6  21.2  45.8  19.6]\n",
            " [-35.8  97.6 -64.4 -30.6]]\n"
          ]
        },
        {
          "output_type": "error",
          "ename": "ValueError",
          "evalue": "ignored",
          "traceback": [
            "\u001b[0;31m---------------------------------------------------------------------------\u001b[0m",
            "\u001b[0;31mValueError\u001b[0m                                Traceback (most recent call last)",
            "\u001b[0;32m<ipython-input-36-f8b22f716506>\u001b[0m in \u001b[0;36m<cell line: 25>\u001b[0;34m()\u001b[0m\n\u001b[1;32m     23\u001b[0m \u001b[0mprint\u001b[0m\u001b[0;34m(\u001b[0m\u001b[0;34m'Result 1:'\u001b[0m\u001b[0;34m,\u001b[0m \u001b[0mnp\u001b[0m\u001b[0;34m.\u001b[0m\u001b[0mdot\u001b[0m\u001b[0;34m(\u001b[0m\u001b[0mC\u001b[0m\u001b[0;34m,\u001b[0m\u001b[0mb\u001b[0m\u001b[0;34m)\u001b[0m\u001b[0;34m)\u001b[0m\u001b[0;34m\u001b[0m\u001b[0;34m\u001b[0m\u001b[0m\n\u001b[1;32m     24\u001b[0m \u001b[0mprint\u001b[0m\u001b[0;34m(\u001b[0m\u001b[0;34m'Result 2:'\u001b[0m\u001b[0;34m,\u001b[0m \u001b[0mnp\u001b[0m\u001b[0;34m.\u001b[0m\u001b[0mdot\u001b[0m\u001b[0;34m(\u001b[0m\u001b[0mB\u001b[0m\u001b[0;34m,\u001b[0m\u001b[0mC\u001b[0m\u001b[0;34m)\u001b[0m\u001b[0;34m)\u001b[0m\u001b[0;34m\u001b[0m\u001b[0;34m\u001b[0m\u001b[0m\n\u001b[0;32m---> 25\u001b[0;31m \u001b[0mprint\u001b[0m\u001b[0;34m(\u001b[0m\u001b[0;34m'Result 3:'\u001b[0m\u001b[0;34m,\u001b[0m \u001b[0mnp\u001b[0m\u001b[0;34m.\u001b[0m\u001b[0mdot\u001b[0m\u001b[0;34m(\u001b[0m\u001b[0mB\u001b[0m\u001b[0;34m,\u001b[0m\u001b[0mb\u001b[0m\u001b[0;34m)\u001b[0m\u001b[0;34m)\u001b[0m\u001b[0;34m\u001b[0m\u001b[0;34m\u001b[0m\u001b[0m\n\u001b[0m",
            "\u001b[0;32m/usr/local/lib/python3.10/dist-packages/numpy/core/overrides.py\u001b[0m in \u001b[0;36mdot\u001b[0;34m(*args, **kwargs)\u001b[0m\n",
            "\u001b[0;31mValueError\u001b[0m: shapes (4,3) and (4,) not aligned: 3 (dim 1) != 4 (dim 0)"
          ]
        }
      ],
      "source": [
        "import numpy as np\n",
        "#\n",
        "# your code goes here\n",
        "#\n",
        "C = [\n",
        "     [3.3 ,  2.5 , 8.1, -1.3],\n",
        "     [9.2 , -7.5 , 10.6, 2.8],\n",
        "     [ 4.9 ,  6.7 , -12.1, 0.3],\n",
        "    ]\n",
        "\n",
        "B = [\n",
        "     [1,2,-3],\n",
        "     [-6,5,4],\n",
        "     [9,10,11],\n",
        "     [7,-8,3],\n",
        "    ]\n",
        "\n",
        "b = [complex(0,-3), complex(4,1), complex(-3,-5), complex(8,-7)]\n",
        "C = np.array(C)\n",
        "B = np.array(B)\n",
        "b = np.transpose(np.array(b))\n",
        "\n",
        "print('Result 1:', np.dot(C,b))\n",
        "print('Result 2:', np.dot(B,C))\n",
        "print('Result 3:', np.dot(B,b))"
      ]
    },
    {
      "cell_type": "markdown",
      "metadata": {
        "id": "9b0TgVmh7EuK"
      },
      "source": [
        "To check out our solution, run the next cell:"
      ]
    },
    {
      "cell_type": "code",
      "execution_count": 23,
      "metadata": {
        "id": "db0nw92f7EuK",
        "colab": {
          "base_uri": "https://localhost:8080/",
          "height": 17
        },
        "outputId": "84e71c60-4ad6-4e7b-804a-b32f4de8c99a"
      },
      "outputs": [
        {
          "output_type": "display_data",
          "data": {
            "text/plain": [
              "<IPython.core.display.Javascript object>"
            ],
            "application/javascript": [
              "window.open(\"https://colab.research.google.com/drive/1arpai4KkBE7FvHIu3YMu8Tfs2vYVVuSY?usp=sharing#scrollTo=kymYuLB66l71\");"
            ]
          },
          "metadata": {}
        }
      ],
      "source": [
        "SolutionToTask3()  # show solution for task 3"
      ]
    },
    {
      "cell_type": "markdown",
      "metadata": {
        "id": "sGJNryoO7EuK"
      },
      "source": [
        "<h3> Task 4</h3>\n",
        "\n",
        "Perform the same cases of _Task 3_, but using the `numpy` package.\n",
        "\n",
        "If you don't have it installed, do so by running the following command in a new cell:\n",
        "\n",
        "    !pip install numpy\n",
        "\n",
        "You can consult the `numpy` documentation [here](https://numpy.org/doc/)."
      ]
    },
    {
      "cell_type": "code",
      "execution_count": 37,
      "metadata": {
        "id": "n2jTUNy97EuK"
      },
      "outputs": [],
      "source": [
        "import numpy as np\n",
        "\n",
        "#done\n",
        "# your code goes here\n",
        "#"
      ]
    },
    {
      "cell_type": "markdown",
      "metadata": {
        "id": "jtTv8jRv7EuK"
      },
      "source": [
        "To check out our solution, run the next cell:"
      ]
    },
    {
      "cell_type": "code",
      "execution_count": 38,
      "metadata": {
        "id": "ZxoBaKt37EuK",
        "colab": {
          "base_uri": "https://localhost:8080/",
          "height": 17
        },
        "outputId": "0d1654dd-905a-4b36-e309-4fc285da8088"
      },
      "outputs": [
        {
          "output_type": "display_data",
          "data": {
            "text/plain": [
              "<IPython.core.display.Javascript object>"
            ],
            "application/javascript": [
              "window.open(\"https://colab.research.google.com/drive/1arpai4KkBE7FvHIu3YMu8Tfs2vYVVuSY?usp=sharing#scrollTo=GPOF3B6l6l72\");"
            ]
          },
          "metadata": {}
        }
      ],
      "source": [
        "SolutionToTask4()  # show solution for task 4"
      ]
    },
    {
      "cell_type": "markdown",
      "metadata": {
        "id": "vQoQWPj-7EuK"
      },
      "source": [
        "# Orthogonal Vectors"
      ]
    },
    {
      "cell_type": "markdown",
      "metadata": {
        "id": "8geakUYP7EuK"
      },
      "source": [
        "Two vectors are **orthogonal** if they are perpendicular to each other, i.e., the **dot product** of the two vectors is zero. It is also called **scalar product** because the result is a scalar value (also known as **inner product**).\n",
        "\n",
        "The dot product can be found by multiplying the two vectors element-wise and taking the sum of those results. Let the vectors be $\\vec{x}$ and $\\vec{y}$:\n",
        "\n",
        "$$\\vec{x}=\\mymatrix{c}{x_1 \\\\ x_2 \\\\ x_3 \\\\ \\vdots \\\\ x_n} ~~~~~~,~~~~~~ \\vec{y}=\\mymatrix{c}{y_1 \\\\ y_2 \\\\ y_3 \\\\ \\vdots \\\\ y_n}$$\n",
        "\n",
        "Then their dot product is given by:\n",
        "\n",
        "$$\\vec{x}\\cdot \\vec{y}=\\sum_{i=1}^nx_iy_i=x_1y_1+x_2y_2+x_3y_3+\\cdots+x_ny_n$$\n",
        "\n",
        "If the vectors are normalized (their length equals 1) and are orthogonal to each other, then they are called **orthonormal**.\n",
        "\n",
        "To determine the length of a vector, we can calculate its **norm**. The norm of the vector $x$ (specifically the [$L^2$ norm](https://en.wikipedia.org/wiki/Norm_(mathematics)#Euclidean_norm)) can be calculated as follows:\n",
        "\n",
        "$$||\\vec{x}||=|\\vec{x}|_2=|\\vec{x}|=\\sqrt{x_1x_1+x_2x-2+x_3x_3+\\cdots+x_nx_n}=\\sqrt{\\vec{x}\\cdot \\vec{x}}$$\n",
        "\n",
        "To normalize the vector $\\vec{x}$, we do:\n",
        "\n",
        "$$\\vec{x}_{normalized}=\\frac{\\vec{x}}{|\\vec{x}|}$$"
      ]
    },
    {
      "cell_type": "markdown",
      "metadata": {
        "id": "UovPz3oO7EuK"
      },
      "source": [
        "An overview of conditionals in Python can be found in _'Appendix B - Conditionals'_."
      ]
    },
    {
      "cell_type": "markdown",
      "metadata": {
        "id": "043vUikv7EuK"
      },
      "source": [
        "<h3> Task 5</h3>\n",
        "\n",
        "Given the vectors $\\vec{u}$ and $\\vec{v}$:\n",
        "\n",
        "$$\\vec{u}=\\mymatrix{r}{3 \\\\ 4 \\\\ 0} ~~~~~~,~~~~~~ \\vec{v}=\\mymatrix{r}{-4 \\\\ 3 \\\\ 2}$$\n",
        "\n",
        "\n",
        "- Write all the code yourself to:\n",
        "  -  normalize the vector $\\vec{u}$\n",
        "  -  normalize the vector $\\vec{v}$\n",
        "  -  determine if they are orthogonal to each other\n",
        "- Using the `numpy` package:\n",
        "  -  normalize the vector $\\vec{u}$\n",
        "  -  normalize the vector $\\vec{v}$\n",
        "  -  determine if they are orthogonal to each other"
      ]
    },
    {
      "cell_type": "code",
      "execution_count": 47,
      "metadata": {
        "id": "eyUGc1X27EuK",
        "colab": {
          "base_uri": "https://localhost:8080/"
        },
        "outputId": "8b24ea08-c9a7-4118-a1aa-89e8308f0887"
      },
      "outputs": [
        {
          "output_type": "stream",
          "name": "stdout",
          "text": [
            "L2 -norm of u [0.6 0.8 0. ]\n",
            "L2 -norm of v [-0.74278135  0.55708601  0.37139068]\n",
            "5.551115123125783e-17\n"
          ]
        }
      ],
      "source": [
        "import numpy as np\n",
        "u = np.array([3,4,0])\n",
        "u_l2_norm = u/np.linalg.norm(u)\n",
        "print(\"L2 -norm of u\", u_l2_norm)\n",
        "\n",
        "v = np.array([-4,3,2])\n",
        "v_l2_norm = v/np.linalg.norm(v)\n",
        "print(\"L2 -norm of v\", v_l2_norm)\n",
        "\n",
        "print(np.dot(u_l2_norm,v_l2_norm))\n",
        "\n",
        "\n",
        "#\n",
        "# your code goes here\n",
        "#"
      ]
    },
    {
      "cell_type": "markdown",
      "metadata": {
        "id": "4ji5VxO17EuK"
      },
      "source": [
        "To check out our solution, run the next cell:"
      ]
    },
    {
      "cell_type": "code",
      "execution_count": 48,
      "metadata": {
        "id": "LYU9jBP17EuK",
        "colab": {
          "base_uri": "https://localhost:8080/",
          "height": 17
        },
        "outputId": "6f71cf82-c54a-4736-f631-f3ddc4e9bea8"
      },
      "outputs": [
        {
          "output_type": "display_data",
          "data": {
            "text/plain": [
              "<IPython.core.display.Javascript object>"
            ],
            "application/javascript": [
              "window.open(\"https://colab.research.google.com/drive/1arpai4KkBE7FvHIu3YMu8Tfs2vYVVuSY?usp=sharing#scrollTo=7BkqghRC6l73\");"
            ]
          },
          "metadata": {}
        }
      ],
      "source": [
        "SolutionToTask5()  # show solution for task 5"
      ]
    },
    {
      "cell_type": "markdown",
      "metadata": {
        "id": "_6mNdDc87EuK"
      },
      "source": [
        "# Vector Space"
      ]
    },
    {
      "cell_type": "markdown",
      "metadata": {
        "id": "TRxb1tSd7EuK"
      },
      "source": [
        "In linear algebra, a **vector space** (also called a linear space) is an algebraic structure created from a non-empty set of elements, often called **vectors**, an internal operation (called addition, defined for the elements of the set) and an external operation (called product by a scalar, defined between said set and another set) that satisfies certain [fundamental properties](https://en.wikipedia.org/wiki/Vector_space#Definition_and_basic_properties).\n",
        "\n",
        "Vector spaces are characterized by their [dimension](https://en.wikipedia.org/wiki/Dimension_(vector_space)), which, roughly speaking, specifies the number of independent directions in the space. This means that, for two vector spaces over a given field and with the same dimension, the properties that depend only on the vector-space structure are exactly the same (technically the vector spaces are [isomorphic](https://en.wikipedia.org/wiki/Isomorphism)). A vector space is finite-dimensional if its dimension is a natural number; otherwise, it is infinite-dimensional."
      ]
    },
    {
      "cell_type": "code",
      "source": [],
      "metadata": {
        "id": "uHJ3KJ8CLhTw"
      },
      "execution_count": null,
      "outputs": []
    }
  ],
  "metadata": {
    "kernelspec": {
      "display_name": "Python 3 (ipykernel)",
      "language": "python",
      "name": "python3"
    },
    "language_info": {
      "codemirror_mode": {
        "name": "ipython",
        "version": 3
      },
      "file_extension": ".py",
      "mimetype": "text/x-python",
      "name": "python",
      "nbconvert_exporter": "python",
      "pygments_lexer": "ipython3",
      "version": "3.11.4"
    },
    "colab": {
      "provenance": [],
      "collapsed_sections": [
        "WpCnLmBK7EuH"
      ],
      "include_colab_link": true
    }
  },
  "nbformat": 4,
  "nbformat_minor": 0
}